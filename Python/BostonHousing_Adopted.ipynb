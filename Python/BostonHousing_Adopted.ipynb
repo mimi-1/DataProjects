{
  "nbformat": 4,
  "nbformat_minor": 0,
  "metadata": {
    "colab": {
      "provenance": [],
      "collapsed_sections": [
        "28u4LH2RCsjB",
        "4KrPjLm2CYqq",
        "exG4c1S4FJBO",
        "ksO3TaOezK4F",
        "RaGsqdgb9qJb"
      ]
    },
    "kernelspec": {
      "name": "python3",
      "display_name": "Python 3"
    },
    "language_info": {
      "name": "python"
    }
  },
  "cells": [
    {
      "cell_type": "code",
      "execution_count": null,
      "metadata": {
        "id": "WN_y9pVkSFOP"
      },
      "outputs": [],
      "source": [
        "import pandas as pd\n",
        "import numpy as np # to read the shape of the dataframe\n",
        "import IPython.core.display as display #markdown/html output for prettier output"
      ]
    },
    {
      "cell_type": "markdown",
      "source": [
        "## Reading dataframe from excel"
      ],
      "metadata": {
        "id": "28u4LH2RCsjB"
      }
    },
    {
      "cell_type": "code",
      "source": [
        "# Google colab mount google drive to get file \n",
        "from google.colab import drive\n",
        "drive.mount('/content/drive/')\n"
      ],
      "metadata": {
        "colab": {
          "base_uri": "https://localhost:8080/"
        },
        "id": "gqNh9WGHRfqS",
        "outputId": "c71c9746-affe-4414-e8ef-cda05c9e4ee7"
      },
      "execution_count": null,
      "outputs": [
        {
          "output_type": "stream",
          "name": "stdout",
          "text": [
            "Drive already mounted at /content/drive/; to attempt to forcibly remount, call drive.mount(\"/content/drive/\", force_remount=True).\n"
          ]
        }
      ]
    },
    {
      "cell_type": "code",
      "source": [
        "# Cheking content of the folder\n",
        "%ls /content/drive/Shareddrives/Machine\\ Learning\\ 1\\ /Data/ "
      ],
      "metadata": {
        "colab": {
          "base_uri": "https://localhost:8080/"
        },
        "id": "iFNzybDGSEgI",
        "outputId": "001f231e-fb29-4a99-c74d-5831b7451165"
      },
      "execution_count": null,
      "outputs": [
        {
          "output_type": "stream",
          "name": "stdout",
          "text": [
            "BostonHousing.xls\n"
          ]
        }
      ]
    },
    {
      "cell_type": "code",
      "source": [
        "\n",
        "#Default name for our group.\n",
        "file_name=r'/content/drive/Shareddrives/Machine Learning 1 /Data/BostonHousing.xls'\n",
        "\n",
        "#uncomment following line to use file name if you work from your computer\n",
        "# file_name = 'BostonHousing.xls'\n",
        "\n",
        "#Fetch data\n",
        "# schema = {'CRIM': float, 'ZN': float, 'INDUS':float, 'CHAS': int }\n",
        "#bhdf = pd.read_excel(file_name, sheet_name='Data', dtype=schema, engine = \"xlrd\")\n",
        "\n",
        "bhdf = pd.read_excel(file_name, sheet_name='Data', engine = \"xlrd\")\n",
        "\n",
        "#converting all string values to numeric nan, adapted from StackOverflow \n",
        "# https://stackoverflow.com/questions/39184442/pandas-dataframe-set-all-string-values-to-nan\n",
        "\n",
        "for col in bhdf.columns:\n",
        "    bhdf[col] = pd.to_numeric(bhdf[col], errors='coerce')\n",
        "\n"
      ],
      "metadata": {
        "id": "TSKUVXC9rb7S"
      },
      "execution_count": null,
      "outputs": []
    },
    {
      "cell_type": "markdown",
      "source": [
        "## Exploration"
      ],
      "metadata": {
        "id": "bMtv34JHDO3q"
      }
    },
    {
      "cell_type": "code",
      "source": [
        "display.display_html(bhdf.sample(10))"
      ],
      "metadata": {
        "colab": {
          "base_uri": "https://localhost:8080/",
          "height": 363
        },
        "id": "d8jCApR8Df_3",
        "outputId": "6c45f996-88c8-4bb4-8161-46fdee86b7a9"
      },
      "execution_count": null,
      "outputs": [
        {
          "output_type": "display_data",
          "data": {
            "text/html": [
              "\n",
              "  <div id=\"df-c93b78b1-dc08-440b-bd82-641e4ffd644b\">\n",
              "    <div class=\"colab-df-container\">\n",
              "      <div>\n",
              "<style scoped>\n",
              "    .dataframe tbody tr th:only-of-type {\n",
              "        vertical-align: middle;\n",
              "    }\n",
              "\n",
              "    .dataframe tbody tr th {\n",
              "        vertical-align: top;\n",
              "    }\n",
              "\n",
              "    .dataframe thead th {\n",
              "        text-align: right;\n",
              "    }\n",
              "</style>\n",
              "<table border=\"1\" class=\"dataframe\">\n",
              "  <thead>\n",
              "    <tr style=\"text-align: right;\">\n",
              "      <th></th>\n",
              "      <th>CRIM</th>\n",
              "      <th>ZN</th>\n",
              "      <th>INDUS</th>\n",
              "      <th>CHAS</th>\n",
              "      <th>NOX</th>\n",
              "      <th>RM</th>\n",
              "      <th>AGE</th>\n",
              "      <th>DIS</th>\n",
              "      <th>RAD</th>\n",
              "      <th>TAX</th>\n",
              "      <th>PTRATIO</th>\n",
              "    </tr>\n",
              "  </thead>\n",
              "  <tbody>\n",
              "    <tr>\n",
              "      <th>128</th>\n",
              "      <td>0.32543</td>\n",
              "      <td>0.0</td>\n",
              "      <td>21.89</td>\n",
              "      <td>0</td>\n",
              "      <td>0.624</td>\n",
              "      <td>6.431</td>\n",
              "      <td>98.8</td>\n",
              "      <td>1.8125</td>\n",
              "      <td>4</td>\n",
              "      <td>437</td>\n",
              "      <td>21.2</td>\n",
              "    </tr>\n",
              "    <tr>\n",
              "      <th>20</th>\n",
              "      <td>1.25179</td>\n",
              "      <td>0.0</td>\n",
              "      <td>8.14</td>\n",
              "      <td>0</td>\n",
              "      <td>0.538</td>\n",
              "      <td>5.570</td>\n",
              "      <td>98.1</td>\n",
              "      <td>3.7979</td>\n",
              "      <td>4</td>\n",
              "      <td>307</td>\n",
              "      <td>44.0</td>\n",
              "    </tr>\n",
              "    <tr>\n",
              "      <th>28</th>\n",
              "      <td>0.77299</td>\n",
              "      <td>0.0</td>\n",
              "      <td>8.14</td>\n",
              "      <td>0</td>\n",
              "      <td>0.538</td>\n",
              "      <td>6.495</td>\n",
              "      <td>94.4</td>\n",
              "      <td>4.4547</td>\n",
              "      <td>4</td>\n",
              "      <td>307</td>\n",
              "      <td>21.0</td>\n",
              "    </tr>\n",
              "    <tr>\n",
              "      <th>139</th>\n",
              "      <td>0.54452</td>\n",
              "      <td>0.0</td>\n",
              "      <td>21.89</td>\n",
              "      <td>0</td>\n",
              "      <td>0.624</td>\n",
              "      <td>6.151</td>\n",
              "      <td>97.9</td>\n",
              "      <td>1.6687</td>\n",
              "      <td>4</td>\n",
              "      <td>437</td>\n",
              "      <td>21.2</td>\n",
              "    </tr>\n",
              "    <tr>\n",
              "      <th>5</th>\n",
              "      <td>0.02985</td>\n",
              "      <td>0.0</td>\n",
              "      <td>NaN</td>\n",
              "      <td>0</td>\n",
              "      <td>0.458</td>\n",
              "      <td>6.430</td>\n",
              "      <td>58.7</td>\n",
              "      <td>6.0622</td>\n",
              "      <td>3</td>\n",
              "      <td>222</td>\n",
              "      <td>137.0</td>\n",
              "    </tr>\n",
              "    <tr>\n",
              "      <th>59</th>\n",
              "      <td>0.10328</td>\n",
              "      <td>25.0</td>\n",
              "      <td>NaN</td>\n",
              "      <td>0</td>\n",
              "      <td>0.453</td>\n",
              "      <td>5.927</td>\n",
              "      <td>47.2</td>\n",
              "      <td>6.9320</td>\n",
              "      <td>8</td>\n",
              "      <td>284</td>\n",
              "      <td>19.7</td>\n",
              "    </tr>\n",
              "    <tr>\n",
              "      <th>81</th>\n",
              "      <td>0.04462</td>\n",
              "      <td>25.0</td>\n",
              "      <td>4.86</td>\n",
              "      <td>0</td>\n",
              "      <td>0.426</td>\n",
              "      <td>6.619</td>\n",
              "      <td>70.4</td>\n",
              "      <td>5.4007</td>\n",
              "      <td>4</td>\n",
              "      <td>281</td>\n",
              "      <td>19.0</td>\n",
              "    </tr>\n",
              "    <tr>\n",
              "      <th>82</th>\n",
              "      <td>0.03659</td>\n",
              "      <td>25.0</td>\n",
              "      <td>4.86</td>\n",
              "      <td>0</td>\n",
              "      <td>0.426</td>\n",
              "      <td>6.302</td>\n",
              "      <td>32.2</td>\n",
              "      <td>5.4007</td>\n",
              "      <td>4</td>\n",
              "      <td>281</td>\n",
              "      <td>19.0</td>\n",
              "    </tr>\n",
              "    <tr>\n",
              "      <th>155</th>\n",
              "      <td>0.06888</td>\n",
              "      <td>0.0</td>\n",
              "      <td>NaN</td>\n",
              "      <td>0</td>\n",
              "      <td>0.488</td>\n",
              "      <td>6.144</td>\n",
              "      <td>62.2</td>\n",
              "      <td>2.5979</td>\n",
              "      <td>3</td>\n",
              "      <td>193</td>\n",
              "      <td>17.8</td>\n",
              "    </tr>\n",
              "    <tr>\n",
              "      <th>41</th>\n",
              "      <td>0.12744</td>\n",
              "      <td>0.0</td>\n",
              "      <td>2.95</td>\n",
              "      <td>0</td>\n",
              "      <td>0.448</td>\n",
              "      <td>6.770</td>\n",
              "      <td>2.9</td>\n",
              "      <td>5.7209</td>\n",
              "      <td>3</td>\n",
              "      <td>233</td>\n",
              "      <td>17.9</td>\n",
              "    </tr>\n",
              "  </tbody>\n",
              "</table>\n",
              "</div>\n",
              "      <button class=\"colab-df-convert\" onclick=\"convertToInteractive('df-c93b78b1-dc08-440b-bd82-641e4ffd644b')\"\n",
              "              title=\"Convert this dataframe to an interactive table.\"\n",
              "              style=\"display:none;\">\n",
              "        \n",
              "  <svg xmlns=\"http://www.w3.org/2000/svg\" height=\"24px\"viewBox=\"0 0 24 24\"\n",
              "       width=\"24px\">\n",
              "    <path d=\"M0 0h24v24H0V0z\" fill=\"none\"/>\n",
              "    <path d=\"M18.56 5.44l.94 2.06.94-2.06 2.06-.94-2.06-.94-.94-2.06-.94 2.06-2.06.94zm-11 1L8.5 8.5l.94-2.06 2.06-.94-2.06-.94L8.5 2.5l-.94 2.06-2.06.94zm10 10l.94 2.06.94-2.06 2.06-.94-2.06-.94-.94-2.06-.94 2.06-2.06.94z\"/><path d=\"M17.41 7.96l-1.37-1.37c-.4-.4-.92-.59-1.43-.59-.52 0-1.04.2-1.43.59L10.3 9.45l-7.72 7.72c-.78.78-.78 2.05 0 2.83L4 21.41c.39.39.9.59 1.41.59.51 0 1.02-.2 1.41-.59l7.78-7.78 2.81-2.81c.8-.78.8-2.07 0-2.86zM5.41 20L4 18.59l7.72-7.72 1.47 1.35L5.41 20z\"/>\n",
              "  </svg>\n",
              "      </button>\n",
              "      \n",
              "  <style>\n",
              "    .colab-df-container {\n",
              "      display:flex;\n",
              "      flex-wrap:wrap;\n",
              "      gap: 12px;\n",
              "    }\n",
              "\n",
              "    .colab-df-convert {\n",
              "      background-color: #E8F0FE;\n",
              "      border: none;\n",
              "      border-radius: 50%;\n",
              "      cursor: pointer;\n",
              "      display: none;\n",
              "      fill: #1967D2;\n",
              "      height: 32px;\n",
              "      padding: 0 0 0 0;\n",
              "      width: 32px;\n",
              "    }\n",
              "\n",
              "    .colab-df-convert:hover {\n",
              "      background-color: #E2EBFA;\n",
              "      box-shadow: 0px 1px 2px rgba(60, 64, 67, 0.3), 0px 1px 3px 1px rgba(60, 64, 67, 0.15);\n",
              "      fill: #174EA6;\n",
              "    }\n",
              "\n",
              "    [theme=dark] .colab-df-convert {\n",
              "      background-color: #3B4455;\n",
              "      fill: #D2E3FC;\n",
              "    }\n",
              "\n",
              "    [theme=dark] .colab-df-convert:hover {\n",
              "      background-color: #434B5C;\n",
              "      box-shadow: 0px 1px 3px 1px rgba(0, 0, 0, 0.15);\n",
              "      filter: drop-shadow(0px 1px 2px rgba(0, 0, 0, 0.3));\n",
              "      fill: #FFFFFF;\n",
              "    }\n",
              "  </style>\n",
              "\n",
              "      <script>\n",
              "        const buttonEl =\n",
              "          document.querySelector('#df-c93b78b1-dc08-440b-bd82-641e4ffd644b button.colab-df-convert');\n",
              "        buttonEl.style.display =\n",
              "          google.colab.kernel.accessAllowed ? 'block' : 'none';\n",
              "\n",
              "        async function convertToInteractive(key) {\n",
              "          const element = document.querySelector('#df-c93b78b1-dc08-440b-bd82-641e4ffd644b');\n",
              "          const dataTable =\n",
              "            await google.colab.kernel.invokeFunction('convertToInteractive',\n",
              "                                                     [key], {});\n",
              "          if (!dataTable) return;\n",
              "\n",
              "          const docLinkHtml = 'Like what you see? Visit the ' +\n",
              "            '<a target=\"_blank\" href=https://colab.research.google.com/notebooks/data_table.ipynb>data table notebook</a>'\n",
              "            + ' to learn more about interactive tables.';\n",
              "          element.innerHTML = '';\n",
              "          dataTable['output_type'] = 'display_data';\n",
              "          await google.colab.output.renderOutput(dataTable, element);\n",
              "          const docLink = document.createElement('div');\n",
              "          docLink.innerHTML = docLinkHtml;\n",
              "          element.appendChild(docLink);\n",
              "        }\n",
              "      </script>\n",
              "    </div>\n",
              "  </div>\n",
              "  "
            ]
          },
          "metadata": {}
        }
      ]
    },
    {
      "cell_type": "code",
      "source": [
        "display.display(bhdf.columns)"
      ],
      "metadata": {
        "colab": {
          "base_uri": "https://localhost:8080/",
          "height": 69
        },
        "id": "NIAbzNldlzk4",
        "outputId": "09078af9-237e-4868-f420-0b5a3e1d1d07"
      },
      "execution_count": null,
      "outputs": [
        {
          "output_type": "display_data",
          "data": {
            "text/plain": [
              "Index(['CRIM', 'ZN', 'INDUS', 'CHAS', 'NOX', 'RM', 'AGE', 'DIS', 'RAD', 'TAX',\n",
              "       'PTRATIO'],\n",
              "      dtype='object')"
            ]
          },
          "metadata": {}
        }
      ]
    },
    {
      "cell_type": "code",
      "source": [],
      "metadata": {
        "id": "HRaTRzinpbIF"
      },
      "execution_count": null,
      "outputs": []
    },
    {
      "cell_type": "markdown",
      "source": [
        "**Dataset Description**\n",
        "* **CRIM**     per capita crime rate by town\n",
        "* **ZN**       proportion of residential land zoned for lots over 25,000 sq.ft. \n",
        "* **INDUS**    proportion of non-retail business acres per town. \n",
        "* **CHAS**     Charles River dummy variable (1 if tract bounds river; 0 otherwise) \n",
        "* **NOX**       nitric oxides concentration (parts per 10 million) \n",
        "* **RM**        average number of rooms per dwelling \n",
        "* **AGE**       proportion of owner-occupied units built prior to 1940 \n",
        "* **DIS**      weighted distances to five Boston employment centres \n",
        "* **RAD**      index of accessibility to radial highways \n",
        "* **TAX**      full-value property-tax rate per $10,000 \n",
        "* **PTRATIO** pupil-teacher ratio by town\n"
      ],
      "metadata": {
        "id": "Z23wyTh6Um5N"
      }
    },
    {
      "cell_type": "code",
      "source": [
        "#Checking dublicated \n",
        "bhdf [bhdf.duplicated()]"
      ],
      "metadata": {
        "colab": {
          "base_uri": "https://localhost:8080/",
          "height": 49
        },
        "id": "Ird8Bq7TCcUC",
        "outputId": "7bd06aa4-3e2c-4146-d5e9-5040245559bd"
      },
      "execution_count": null,
      "outputs": [
        {
          "output_type": "execute_result",
          "data": {
            "text/plain": [
              "Empty DataFrame\n",
              "Columns: [CRIM, ZN, INDUS, CHAS, NOX, RM, AGE, DIS, RAD, TAX, PTRATIO]\n",
              "Index: []"
            ],
            "text/html": [
              "\n",
              "  <div id=\"df-ea2fa208-4bf9-48d9-9f6d-24f832986369\">\n",
              "    <div class=\"colab-df-container\">\n",
              "      <div>\n",
              "<style scoped>\n",
              "    .dataframe tbody tr th:only-of-type {\n",
              "        vertical-align: middle;\n",
              "    }\n",
              "\n",
              "    .dataframe tbody tr th {\n",
              "        vertical-align: top;\n",
              "    }\n",
              "\n",
              "    .dataframe thead th {\n",
              "        text-align: right;\n",
              "    }\n",
              "</style>\n",
              "<table border=\"1\" class=\"dataframe\">\n",
              "  <thead>\n",
              "    <tr style=\"text-align: right;\">\n",
              "      <th></th>\n",
              "      <th>CRIM</th>\n",
              "      <th>ZN</th>\n",
              "      <th>INDUS</th>\n",
              "      <th>CHAS</th>\n",
              "      <th>NOX</th>\n",
              "      <th>RM</th>\n",
              "      <th>AGE</th>\n",
              "      <th>DIS</th>\n",
              "      <th>RAD</th>\n",
              "      <th>TAX</th>\n",
              "      <th>PTRATIO</th>\n",
              "    </tr>\n",
              "  </thead>\n",
              "  <tbody>\n",
              "  </tbody>\n",
              "</table>\n",
              "</div>\n",
              "      <button class=\"colab-df-convert\" onclick=\"convertToInteractive('df-ea2fa208-4bf9-48d9-9f6d-24f832986369')\"\n",
              "              title=\"Convert this dataframe to an interactive table.\"\n",
              "              style=\"display:none;\">\n",
              "        \n",
              "  <svg xmlns=\"http://www.w3.org/2000/svg\" height=\"24px\"viewBox=\"0 0 24 24\"\n",
              "       width=\"24px\">\n",
              "    <path d=\"M0 0h24v24H0V0z\" fill=\"none\"/>\n",
              "    <path d=\"M18.56 5.44l.94 2.06.94-2.06 2.06-.94-2.06-.94-.94-2.06-.94 2.06-2.06.94zm-11 1L8.5 8.5l.94-2.06 2.06-.94-2.06-.94L8.5 2.5l-.94 2.06-2.06.94zm10 10l.94 2.06.94-2.06 2.06-.94-2.06-.94-.94-2.06-.94 2.06-2.06.94z\"/><path d=\"M17.41 7.96l-1.37-1.37c-.4-.4-.92-.59-1.43-.59-.52 0-1.04.2-1.43.59L10.3 9.45l-7.72 7.72c-.78.78-.78 2.05 0 2.83L4 21.41c.39.39.9.59 1.41.59.51 0 1.02-.2 1.41-.59l7.78-7.78 2.81-2.81c.8-.78.8-2.07 0-2.86zM5.41 20L4 18.59l7.72-7.72 1.47 1.35L5.41 20z\"/>\n",
              "  </svg>\n",
              "      </button>\n",
              "      \n",
              "  <style>\n",
              "    .colab-df-container {\n",
              "      display:flex;\n",
              "      flex-wrap:wrap;\n",
              "      gap: 12px;\n",
              "    }\n",
              "\n",
              "    .colab-df-convert {\n",
              "      background-color: #E8F0FE;\n",
              "      border: none;\n",
              "      border-radius: 50%;\n",
              "      cursor: pointer;\n",
              "      display: none;\n",
              "      fill: #1967D2;\n",
              "      height: 32px;\n",
              "      padding: 0 0 0 0;\n",
              "      width: 32px;\n",
              "    }\n",
              "\n",
              "    .colab-df-convert:hover {\n",
              "      background-color: #E2EBFA;\n",
              "      box-shadow: 0px 1px 2px rgba(60, 64, 67, 0.3), 0px 1px 3px 1px rgba(60, 64, 67, 0.15);\n",
              "      fill: #174EA6;\n",
              "    }\n",
              "\n",
              "    [theme=dark] .colab-df-convert {\n",
              "      background-color: #3B4455;\n",
              "      fill: #D2E3FC;\n",
              "    }\n",
              "\n",
              "    [theme=dark] .colab-df-convert:hover {\n",
              "      background-color: #434B5C;\n",
              "      box-shadow: 0px 1px 3px 1px rgba(0, 0, 0, 0.15);\n",
              "      filter: drop-shadow(0px 1px 2px rgba(0, 0, 0, 0.3));\n",
              "      fill: #FFFFFF;\n",
              "    }\n",
              "  </style>\n",
              "\n",
              "      <script>\n",
              "        const buttonEl =\n",
              "          document.querySelector('#df-ea2fa208-4bf9-48d9-9f6d-24f832986369 button.colab-df-convert');\n",
              "        buttonEl.style.display =\n",
              "          google.colab.kernel.accessAllowed ? 'block' : 'none';\n",
              "\n",
              "        async function convertToInteractive(key) {\n",
              "          const element = document.querySelector('#df-ea2fa208-4bf9-48d9-9f6d-24f832986369');\n",
              "          const dataTable =\n",
              "            await google.colab.kernel.invokeFunction('convertToInteractive',\n",
              "                                                     [key], {});\n",
              "          if (!dataTable) return;\n",
              "\n",
              "          const docLinkHtml = 'Like what you see? Visit the ' +\n",
              "            '<a target=\"_blank\" href=https://colab.research.google.com/notebooks/data_table.ipynb>data table notebook</a>'\n",
              "            + ' to learn more about interactive tables.';\n",
              "          element.innerHTML = '';\n",
              "          dataTable['output_type'] = 'display_data';\n",
              "          await google.colab.output.renderOutput(dataTable, element);\n",
              "          const docLink = document.createElement('div');\n",
              "          docLink.innerHTML = docLinkHtml;\n",
              "          element.appendChild(docLink);\n",
              "        }\n",
              "      </script>\n",
              "    </div>\n",
              "  </div>\n",
              "  "
            ]
          },
          "metadata": {},
          "execution_count": 28
        }
      ]
    },
    {
      "cell_type": "code",
      "source": [
        "# Dimension of the dataset\n",
        "print(np.shape(bhdf)) #not exactly 506X14"
      ],
      "metadata": {
        "colab": {
          "base_uri": "https://localhost:8080/"
        },
        "id": "JiFcS9a6owkJ",
        "outputId": "528ded8a-b53b-427c-e6ea-6954f3a40e87"
      },
      "execution_count": null,
      "outputs": [
        {
          "output_type": "stream",
          "name": "stdout",
          "text": [
            "(167, 11)\n"
          ]
        }
      ]
    },
    {
      "cell_type": "code",
      "source": [
        "#Check datatypes\n",
        "bhdf.dtypes"
      ],
      "metadata": {
        "colab": {
          "base_uri": "https://localhost:8080/"
        },
        "id": "xBuqaed1zuA2",
        "outputId": "b4d51a02-18aa-4283-c818-98941c8e69ac"
      },
      "execution_count": null,
      "outputs": [
        {
          "output_type": "execute_result",
          "data": {
            "text/plain": [
              "CRIM       float64\n",
              "ZN         float64\n",
              "INDUS      float64\n",
              "CHAS         int64\n",
              "NOX        float64\n",
              "RM         float64\n",
              "AGE        float64\n",
              "DIS        float64\n",
              "RAD          int64\n",
              "TAX          int64\n",
              "PTRATIO    float64\n",
              "dtype: object"
            ]
          },
          "metadata": {},
          "execution_count": 30
        }
      ]
    },
    {
      "cell_type": "markdown",
      "source": [
        "All fields are numeric"
      ],
      "metadata": {
        "id": "SIaVtX97zzM5"
      }
    },
    {
      "cell_type": "code",
      "source": [
        "display.display(display.Markdown(\"<b> Statisticsl Summary of dataset by attribute :</b> \"))\n",
        "display.display_html(bhdf.describe())"
      ],
      "metadata": {
        "colab": {
          "base_uri": "https://localhost:8080/",
          "height": 330
        },
        "id": "ETDgPUlMed2I",
        "outputId": "6be184d1-d27e-4219-d6dd-d019e406358d"
      },
      "execution_count": null,
      "outputs": [
        {
          "output_type": "display_data",
          "data": {
            "text/plain": [
              "<IPython.core.display.Markdown object>"
            ],
            "text/markdown": "<b> Statisticsl Summary of dataset by attribute :</b> "
          },
          "metadata": {}
        },
        {
          "output_type": "display_data",
          "data": {
            "text/html": [
              "\n",
              "  <div id=\"df-a86e80ac-38b4-4dee-8c1c-b080814bfaa7\">\n",
              "    <div class=\"colab-df-container\">\n",
              "      <div>\n",
              "<style scoped>\n",
              "    .dataframe tbody tr th:only-of-type {\n",
              "        vertical-align: middle;\n",
              "    }\n",
              "\n",
              "    .dataframe tbody tr th {\n",
              "        vertical-align: top;\n",
              "    }\n",
              "\n",
              "    .dataframe thead th {\n",
              "        text-align: right;\n",
              "    }\n",
              "</style>\n",
              "<table border=\"1\" class=\"dataframe\">\n",
              "  <thead>\n",
              "    <tr style=\"text-align: right;\">\n",
              "      <th></th>\n",
              "      <th>CRIM</th>\n",
              "      <th>ZN</th>\n",
              "      <th>INDUS</th>\n",
              "      <th>CHAS</th>\n",
              "      <th>NOX</th>\n",
              "      <th>RM</th>\n",
              "      <th>AGE</th>\n",
              "      <th>DIS</th>\n",
              "      <th>RAD</th>\n",
              "      <th>TAX</th>\n",
              "      <th>PTRATIO</th>\n",
              "    </tr>\n",
              "  </thead>\n",
              "  <tbody>\n",
              "    <tr>\n",
              "      <th>count</th>\n",
              "      <td>167.000000</td>\n",
              "      <td>167.000000</td>\n",
              "      <td>139.000000</td>\n",
              "      <td>167.000000</td>\n",
              "      <td>161.000000</td>\n",
              "      <td>167.000000</td>\n",
              "      <td>167.000000</td>\n",
              "      <td>163.000000</td>\n",
              "      <td>167.000000</td>\n",
              "      <td>167.000000</td>\n",
              "      <td>164.000000</td>\n",
              "    </tr>\n",
              "    <tr>\n",
              "      <th>mean</th>\n",
              "      <td>0.295958</td>\n",
              "      <td>9.032934</td>\n",
              "      <td>9.122878</td>\n",
              "      <td>0.005988</td>\n",
              "      <td>0.505864</td>\n",
              "      <td>6.226030</td>\n",
              "      <td>66.055689</td>\n",
              "      <td>4.169953</td>\n",
              "      <td>4.119760</td>\n",
              "      <td>314.658683</td>\n",
              "      <td>20.938659</td>\n",
              "    </tr>\n",
              "    <tr>\n",
              "      <th>std</th>\n",
              "      <td>0.548701</td>\n",
              "      <td>19.952137</td>\n",
              "      <td>6.632088</td>\n",
              "      <td>0.077382</td>\n",
              "      <td>0.079996</td>\n",
              "      <td>0.512468</td>\n",
              "      <td>27.833354</td>\n",
              "      <td>1.800800</td>\n",
              "      <td>1.320836</td>\n",
              "      <td>76.814420</td>\n",
              "      <td>16.362157</td>\n",
              "    </tr>\n",
              "    <tr>\n",
              "      <th>min</th>\n",
              "      <td>0.006320</td>\n",
              "      <td>0.000000</td>\n",
              "      <td>0.740000</td>\n",
              "      <td>0.000000</td>\n",
              "      <td>0.398000</td>\n",
              "      <td>4.903000</td>\n",
              "      <td>2.900000</td>\n",
              "      <td>1.321600</td>\n",
              "      <td>1.000000</td>\n",
              "      <td>188.000000</td>\n",
              "      <td>0.230000</td>\n",
              "    </tr>\n",
              "    <tr>\n",
              "      <th>25%</th>\n",
              "      <td>0.067620</td>\n",
              "      <td>0.000000</td>\n",
              "      <td>4.050000</td>\n",
              "      <td>0.000000</td>\n",
              "      <td>0.448000</td>\n",
              "      <td>5.886500</td>\n",
              "      <td>44.200000</td>\n",
              "      <td>2.701250</td>\n",
              "      <td>3.000000</td>\n",
              "      <td>263.000000</td>\n",
              "      <td>17.800000</td>\n",
              "    </tr>\n",
              "    <tr>\n",
              "      <th>50%</th>\n",
              "      <td>0.122040</td>\n",
              "      <td>0.000000</td>\n",
              "      <td>8.140000</td>\n",
              "      <td>0.000000</td>\n",
              "      <td>0.499000</td>\n",
              "      <td>6.142000</td>\n",
              "      <td>69.700000</td>\n",
              "      <td>3.976900</td>\n",
              "      <td>4.000000</td>\n",
              "      <td>307.000000</td>\n",
              "      <td>18.700000</td>\n",
              "    </tr>\n",
              "    <tr>\n",
              "      <th>75%</th>\n",
              "      <td>0.223505</td>\n",
              "      <td>12.500000</td>\n",
              "      <td>10.010000</td>\n",
              "      <td>0.000000</td>\n",
              "      <td>0.538000</td>\n",
              "      <td>6.455000</td>\n",
              "      <td>92.050000</td>\n",
              "      <td>5.400900</td>\n",
              "      <td>5.000000</td>\n",
              "      <td>384.000000</td>\n",
              "      <td>20.900000</td>\n",
              "    </tr>\n",
              "    <tr>\n",
              "      <th>max</th>\n",
              "      <td>4.097400</td>\n",
              "      <td>100.000000</td>\n",
              "      <td>25.650000</td>\n",
              "      <td>1.000000</td>\n",
              "      <td>0.871000</td>\n",
              "      <td>8.069000</td>\n",
              "      <td>100.000000</td>\n",
              "      <td>9.222900</td>\n",
              "      <td>8.000000</td>\n",
              "      <td>469.000000</td>\n",
              "      <td>177.000000</td>\n",
              "    </tr>\n",
              "  </tbody>\n",
              "</table>\n",
              "</div>\n",
              "      <button class=\"colab-df-convert\" onclick=\"convertToInteractive('df-a86e80ac-38b4-4dee-8c1c-b080814bfaa7')\"\n",
              "              title=\"Convert this dataframe to an interactive table.\"\n",
              "              style=\"display:none;\">\n",
              "        \n",
              "  <svg xmlns=\"http://www.w3.org/2000/svg\" height=\"24px\"viewBox=\"0 0 24 24\"\n",
              "       width=\"24px\">\n",
              "    <path d=\"M0 0h24v24H0V0z\" fill=\"none\"/>\n",
              "    <path d=\"M18.56 5.44l.94 2.06.94-2.06 2.06-.94-2.06-.94-.94-2.06-.94 2.06-2.06.94zm-11 1L8.5 8.5l.94-2.06 2.06-.94-2.06-.94L8.5 2.5l-.94 2.06-2.06.94zm10 10l.94 2.06.94-2.06 2.06-.94-2.06-.94-.94-2.06-.94 2.06-2.06.94z\"/><path d=\"M17.41 7.96l-1.37-1.37c-.4-.4-.92-.59-1.43-.59-.52 0-1.04.2-1.43.59L10.3 9.45l-7.72 7.72c-.78.78-.78 2.05 0 2.83L4 21.41c.39.39.9.59 1.41.59.51 0 1.02-.2 1.41-.59l7.78-7.78 2.81-2.81c.8-.78.8-2.07 0-2.86zM5.41 20L4 18.59l7.72-7.72 1.47 1.35L5.41 20z\"/>\n",
              "  </svg>\n",
              "      </button>\n",
              "      \n",
              "  <style>\n",
              "    .colab-df-container {\n",
              "      display:flex;\n",
              "      flex-wrap:wrap;\n",
              "      gap: 12px;\n",
              "    }\n",
              "\n",
              "    .colab-df-convert {\n",
              "      background-color: #E8F0FE;\n",
              "      border: none;\n",
              "      border-radius: 50%;\n",
              "      cursor: pointer;\n",
              "      display: none;\n",
              "      fill: #1967D2;\n",
              "      height: 32px;\n",
              "      padding: 0 0 0 0;\n",
              "      width: 32px;\n",
              "    }\n",
              "\n",
              "    .colab-df-convert:hover {\n",
              "      background-color: #E2EBFA;\n",
              "      box-shadow: 0px 1px 2px rgba(60, 64, 67, 0.3), 0px 1px 3px 1px rgba(60, 64, 67, 0.15);\n",
              "      fill: #174EA6;\n",
              "    }\n",
              "\n",
              "    [theme=dark] .colab-df-convert {\n",
              "      background-color: #3B4455;\n",
              "      fill: #D2E3FC;\n",
              "    }\n",
              "\n",
              "    [theme=dark] .colab-df-convert:hover {\n",
              "      background-color: #434B5C;\n",
              "      box-shadow: 0px 1px 3px 1px rgba(0, 0, 0, 0.15);\n",
              "      filter: drop-shadow(0px 1px 2px rgba(0, 0, 0, 0.3));\n",
              "      fill: #FFFFFF;\n",
              "    }\n",
              "  </style>\n",
              "\n",
              "      <script>\n",
              "        const buttonEl =\n",
              "          document.querySelector('#df-a86e80ac-38b4-4dee-8c1c-b080814bfaa7 button.colab-df-convert');\n",
              "        buttonEl.style.display =\n",
              "          google.colab.kernel.accessAllowed ? 'block' : 'none';\n",
              "\n",
              "        async function convertToInteractive(key) {\n",
              "          const element = document.querySelector('#df-a86e80ac-38b4-4dee-8c1c-b080814bfaa7');\n",
              "          const dataTable =\n",
              "            await google.colab.kernel.invokeFunction('convertToInteractive',\n",
              "                                                     [key], {});\n",
              "          if (!dataTable) return;\n",
              "\n",
              "          const docLinkHtml = 'Like what you see? Visit the ' +\n",
              "            '<a target=\"_blank\" href=https://colab.research.google.com/notebooks/data_table.ipynb>data table notebook</a>'\n",
              "            + ' to learn more about interactive tables.';\n",
              "          element.innerHTML = '';\n",
              "          dataTable['output_type'] = 'display_data';\n",
              "          await google.colab.output.renderOutput(dataTable, element);\n",
              "          const docLink = document.createElement('div');\n",
              "          docLink.innerHTML = docLinkHtml;\n",
              "          element.appendChild(docLink);\n",
              "        }\n",
              "      </script>\n",
              "    </div>\n",
              "  </div>\n",
              "  "
            ]
          },
          "metadata": {}
        }
      ]
    },
    {
      "cell_type": "markdown",
      "source": [
        "## Handling Missing Values\n",
        "*Handling missing data except PTRATIO predictor*"
      ],
      "metadata": {
        "id": "4KrPjLm2CYqq"
      }
    },
    {
      "cell_type": "markdown",
      "source": [
        "### Missing value report subroutine\n",
        "generates reports about missing value in a dataframe"
      ],
      "metadata": {
        "id": "exG4c1S4FJBO"
      }
    },
    {
      "cell_type": "code",
      "source": [
        "#Checking missing values (nan)\n",
        "def missing_values_report(df):\n",
        "  missing_values_count = df.isnull().sum()\n",
        "  print(missing_values_count)\n",
        "  print()\n",
        "  \n",
        "  missing_col = []\n",
        "  l = list(missing_values_count.index)\n",
        "  for i in l:\n",
        "    if missing_values_count[i]>0:\n",
        "      missing_col.append(i)\n",
        "  # missing_columns = [c in missing_values_count[0] where  ]\n",
        "  #percent of missing data \n",
        "  # total cells\n",
        "  total_cells = np.product(df.shape) #total cells\n",
        "  total_missing = missing_values_count.sum() #missing cells\n",
        "  percent_missing = (total_missing/total_cells) * 100 #missing percent\n",
        "  print(\"Missing data percentage:\" , percent_missing)\n",
        "  print(\"Total records:\", len(df))\n",
        "  return missing_col\n",
        "\n",
        "missing_col = missing_values_report(bhdf)"
      ],
      "metadata": {
        "colab": {
          "base_uri": "https://localhost:8080/"
        },
        "id": "VAqg70ZLETV9",
        "outputId": "3d66ea3f-ca28-4d95-fbd6-ccdc8099d878"
      },
      "execution_count": null,
      "outputs": [
        {
          "output_type": "stream",
          "name": "stdout",
          "text": [
            "CRIM        0\n",
            "ZN          0\n",
            "INDUS      28\n",
            "CHAS        0\n",
            "NOX         6\n",
            "RM          0\n",
            "AGE         0\n",
            "DIS         4\n",
            "RAD         0\n",
            "TAX         0\n",
            "PTRATIO     3\n",
            "dtype: int64\n",
            "\n",
            "Missing data percentage: 2.231899836690256\n",
            "Total records: 167\n"
          ]
        }
      ]
    },
    {
      "cell_type": "markdown",
      "source": [
        "### Handling Missing Data: Omission\n"
      ],
      "metadata": {
        "id": "ksO3TaOezK4F"
      }
    },
    {
      "cell_type": "code",
      "source": [
        "bhdf_reduced = bhdf.dropna()"
      ],
      "metadata": {
        "id": "aOYYpwRezNCe"
      },
      "execution_count": null,
      "outputs": []
    },
    {
      "cell_type": "code",
      "source": [
        "# missing data report for reduced data\n",
        "missing_values_report(bhdf_reduced)"
      ],
      "metadata": {
        "id": "QcH8D_PI0QUR",
        "colab": {
          "base_uri": "https://localhost:8080/"
        },
        "outputId": "60d0310b-2b0b-4995-b6b0-023758840575"
      },
      "execution_count": null,
      "outputs": [
        {
          "output_type": "stream",
          "name": "stdout",
          "text": [
            "CRIM       0\n",
            "ZN         0\n",
            "INDUS      0\n",
            "CHAS       0\n",
            "NOX        0\n",
            "RM         0\n",
            "AGE        0\n",
            "DIS        0\n",
            "RAD        0\n",
            "TAX        0\n",
            "PTRATIO    0\n",
            "dtype: int64\n",
            "\n",
            "Missing data percentage: 0.0\n",
            "Total records: 129\n"
          ]
        },
        {
          "output_type": "execute_result",
          "data": {
            "text/plain": [
              "[]"
            ]
          },
          "metadata": {},
          "execution_count": 12
        }
      ]
    },
    {
      "cell_type": "code",
      "source": [
        "print(f\"We have dropped {len(bhdf) - len(bhdf_reduced)} records out of {len(bhdf)}\")"
      ],
      "metadata": {
        "id": "X1HHYbAv1hNc",
        "colab": {
          "base_uri": "https://localhost:8080/"
        },
        "outputId": "384210a1-f900-4719-c053-0723e8d3c453"
      },
      "execution_count": null,
      "outputs": [
        {
          "output_type": "stream",
          "name": "stdout",
          "text": [
            "We have dropped 38 records out of 167\n"
          ]
        }
      ]
    },
    {
      "cell_type": "markdown",
      "source": [
        "### Handling Missing Data: Imputation\n",
        "\n",
        "Replacing missing data with median\n"
      ],
      "metadata": {
        "id": "6YovkCyF2AoD"
      }
    },
    {
      "cell_type": "code",
      "source": [
        "#our columns to replace missing values apart from PTRATIO\n",
        "missing_col.remove('PTRATIO')\n",
        "missing_col #columnt with missing data"
      ],
      "metadata": {
        "id": "77bRX3rc8G8a",
        "colab": {
          "base_uri": "https://localhost:8080/"
        },
        "outputId": "f8725315-c122-4367-f383-87a4ffa631cd"
      },
      "execution_count": null,
      "outputs": [
        {
          "output_type": "execute_result",
          "data": {
            "text/plain": [
              "['INDUS', 'NOX', 'DIS']"
            ]
          },
          "metadata": {},
          "execution_count": 35
        }
      ]
    },
    {
      "cell_type": "code",
      "source": [
        "#substitute median\n",
        "bhdf_imputed = bhdf.copy()\n",
        "for col in missing_col:\n",
        "  median_substitute = bhdf[col].median()\n",
        "  bhdf_imputed[col] = bhdf[col].fillna(value=median_substitute)\n",
        "  \n",
        "missing_values_report(bhdf_imputed)"
      ],
      "metadata": {
        "id": "sttjHx2ov6th",
        "colab": {
          "base_uri": "https://localhost:8080/"
        },
        "outputId": "a41680b1-348b-4339-e768-a48bec794774"
      },
      "execution_count": null,
      "outputs": [
        {
          "output_type": "stream",
          "name": "stdout",
          "text": [
            "CRIM       0\n",
            "ZN         0\n",
            "INDUS      0\n",
            "CHAS       0\n",
            "NOX        0\n",
            "RM         0\n",
            "AGE        0\n",
            "DIS        0\n",
            "RAD        0\n",
            "TAX        0\n",
            "PTRATIO    3\n",
            "dtype: int64\n",
            "\n",
            "Missing data percentage: 0.16330974414806748\n",
            "Total records: 167\n"
          ]
        },
        {
          "output_type": "execute_result",
          "data": {
            "text/plain": [
              "['PTRATIO']"
            ]
          },
          "metadata": {},
          "execution_count": 36
        }
      ]
    },
    {
      "cell_type": "markdown",
      "source": [
        "## Looking for outliers in PTRATIO predictor"
      ],
      "metadata": {
        "id": "RaGsqdgb9qJb"
      }
    },
    {
      "cell_type": "code",
      "source": [
        "#Checking Summary\n",
        "print(\"PTRATIO summary: \")\n",
        "bhdf_summary = bhdf.PTRATIO.describe()\n",
        "print(bhdf_summary)\n",
        "\n",
        "q75 = bhdf_summary['75%']\n",
        "q25= bhdf_summary['25%']\n",
        "iqr =  q75 - q25"
      ],
      "metadata": {
        "id": "iMf8xVRAT7wD",
        "colab": {
          "base_uri": "https://localhost:8080/"
        },
        "outputId": "a5044c16-ace0-4b1f-f87b-feb4cca628fa"
      },
      "execution_count": null,
      "outputs": [
        {
          "output_type": "stream",
          "name": "stdout",
          "text": [
            "PTRATIO summary: \n",
            "count    164.000000\n",
            "mean      20.938659\n",
            "std       16.362157\n",
            "min        0.230000\n",
            "25%       17.800000\n",
            "50%       18.700000\n",
            "75%       20.900000\n",
            "max      177.000000\n",
            "Name: PTRATIO, dtype: float64\n"
          ]
        }
      ]
    },
    {
      "cell_type": "code",
      "source": [
        "print(\"IQR = \",iqr)\n",
        "print(\"Range = \",bhdf_summary['max'] - bhdf_summary['min'] )"
      ],
      "metadata": {
        "colab": {
          "base_uri": "https://localhost:8080/"
        },
        "id": "E-K8KSdm8Ndt",
        "outputId": "3bcb0aef-f0bd-4e2d-a128-a9fe660c9dd8"
      },
      "execution_count": null,
      "outputs": [
        {
          "output_type": "stream",
          "name": "stdout",
          "text": [
            "IQR =  3.099999999999998\n",
            "Range =  176.77\n"
          ]
        }
      ]
    },
    {
      "cell_type": "markdown",
      "source": [
        "Cutting outliers"
      ],
      "metadata": {
        "id": "n7qFrzX3LZst"
      }
    },
    {
      "cell_type": "code",
      "source": [
        "cutoff = iqr * 1.5\n",
        "\n",
        "# expecting outliers \n",
        "lower, upper = q25 - cutoff, q75 + cutoff\n",
        "\n",
        "print (f\"lower cut = {lower}, upper cut = {upper}\")\n",
        "#getting top and bottom 25% of data \n",
        "\n",
        "#possible outliers\n",
        "print(\"Possible outliers: \")\n",
        "print()\n",
        "print(\"With values that are too big\")\n",
        "print(bhdf.PTRATIO[bhdf.PTRATIO > upper].sort_values(ascending=False))\n",
        "print()\n",
        "print(\"With values that are too small\")\n",
        "print(bhdf.PTRATIO[bhdf.PTRATIO < lower].sort_values())"
      ],
      "metadata": {
        "colab": {
          "base_uri": "https://localhost:8080/"
        },
        "id": "oZLh5V_sUEn-",
        "outputId": "5ab1dd84-8bbe-45ac-cc8a-a44175774a84"
      },
      "execution_count": null,
      "outputs": [
        {
          "output_type": "stream",
          "name": "stdout",
          "text": [
            "lower cut = 13.150000000000004, upper cut = 25.549999999999997\n",
            "Possible outliers: \n",
            "\n",
            "With values that are too big\n",
            "74     177.0\n",
            "5      137.0\n",
            "144     51.3\n",
            "145     50.3\n",
            "34      47.0\n",
            "31      46.0\n",
            "20      44.0\n",
            "Name: PTRATIO, dtype: float64\n",
            "\n",
            "With values that are too small\n",
            "13    0.23\n",
            "54    2.11\n",
            "Name: PTRATIO, dtype: float64\n"
          ]
        }
      ]
    }
  ]
}